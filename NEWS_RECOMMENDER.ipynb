{
 "cells": [
  {
   "cell_type": "code",
   "execution_count": 1,
   "id": "8d267b45",
   "metadata": {},
   "outputs": [
    {
     "name": "stderr",
     "output_type": "stream",
     "text": [
      "[nltk_data] Downloading package stopwords to\n",
      "[nltk_data]     C:\\Users\\venil\\AppData\\Roaming\\nltk_data...\n",
      "[nltk_data]   Package stopwords is already up-to-date!\n",
      "[nltk_data] Downloading package punkt to\n",
      "[nltk_data]     C:\\Users\\venil\\AppData\\Roaming\\nltk_data...\n",
      "[nltk_data]   Package punkt is already up-to-date!\n",
      "[nltk_data] Downloading package wordnet to\n",
      "[nltk_data]     C:\\Users\\venil\\AppData\\Roaming\\nltk_data...\n",
      "[nltk_data]   Package wordnet is already up-to-date!\n"
     ]
    }
   ],
   "source": [
    "import numpy as np\n",
    "import pandas as pd\n",
    "import os\n",
    "import math\n",
    "import time\n",
    "import matplotlib.pyplot as plt\n",
    "import seaborn as sns\n",
    "from nltk.corpus import stopwords\n",
    "import nltk\n",
    "nltk.download('stopwords')\n",
    "nltk.download('punkt')\n",
    "nltk.download('wordnet')\n",
    "from nltk.tokenize import word_tokenize\n",
    "from nltk.stem import WordNetLemmatizer\n",
    "from sklearn.feature_extraction.text import CountVectorizer\n",
    "from sklearn.feature_extraction.text import TfidfVectorizer\n",
    "from sklearn.metrics.pairwise import cosine_similarity  \n",
    "from sklearn.metrics import pairwise_distances"
   ]
  },
  {
   "cell_type": "code",
   "execution_count": 2,
   "id": "cc408ef5",
   "metadata": {},
   "outputs": [],
   "source": [
    "news = pd.read_json(\"News_Category_Dataset_v3.json\", lines = True)"
   ]
  },
  {
   "cell_type": "code",
   "execution_count": 3,
   "id": "3958fe12",
   "metadata": {},
   "outputs": [],
   "source": [
    "news = news[news['date'] >= pd.Timestamp(2020,1,1)]"
   ]
  },
  {
   "cell_type": "code",
   "execution_count": 4,
   "id": "96393627",
   "metadata": {},
   "outputs": [
    {
     "data": {
      "text/plain": [
       "(5518, 6)"
      ]
     },
     "execution_count": 4,
     "metadata": {},
     "output_type": "execute_result"
    }
   ],
   "source": [
    "news.shape"
   ]
  },
  {
   "cell_type": "code",
   "execution_count": 5,
   "id": "bb365322",
   "metadata": {},
   "outputs": [
    {
     "name": "stdout",
     "output_type": "stream",
     "text": [
      "Total number of articles after removing duplicates: 5516\n"
     ]
    }
   ],
   "source": [
    "news.sort_values('headline',inplace=True, ascending=False)\n",
    "duplicated_articles_series = news.duplicated('headline', keep = False)\n",
    "news = news[~duplicated_articles_series]\n",
    "print(\"Total number of articles after removing duplicates:\", news.shape[0])"
   ]
  },
  {
   "cell_type": "code",
   "execution_count": 6,
   "id": "a8855e4d",
   "metadata": {},
   "outputs": [],
   "source": [
    "news.index = range(news.shape[0])"
   ]
  },
  {
   "cell_type": "code",
   "execution_count": 7,
   "id": "3d293387",
   "metadata": {},
   "outputs": [],
   "source": [
    "news[\"day and month\"] = news[\"date\"].dt.strftime(\"%a\") + \"_\" + news[\"date\"].dt.strftime(\"%b\")"
   ]
  },
  {
   "cell_type": "code",
   "execution_count": 8,
   "id": "1b3ad8db",
   "metadata": {},
   "outputs": [
    {
     "data": {
      "text/plain": [
       "5516"
      ]
     },
     "execution_count": 8,
     "metadata": {},
     "output_type": "execute_result"
    }
   ],
   "source": [
    "news.index = range(news.shape[0])\n",
    "news.index.shape[0]"
   ]
  },
  {
   "cell_type": "code",
   "execution_count": 9,
   "id": "75ea8a6f",
   "metadata": {
    "scrolled": true
   },
   "outputs": [
    {
     "name": "stdout",
     "output_type": "stream",
     "text": [
      "<class 'pandas.core.frame.DataFrame'>\n",
      "RangeIndex: 5516 entries, 0 to 5515\n",
      "Data columns (total 7 columns):\n",
      " #   Column             Non-Null Count  Dtype         \n",
      "---  ------             --------------  -----         \n",
      " 0   link               5516 non-null   object        \n",
      " 1   headline           5516 non-null   object        \n",
      " 2   category           5516 non-null   object        \n",
      " 3   short_description  5516 non-null   object        \n",
      " 4   authors            5516 non-null   object        \n",
      " 5   date               5516 non-null   datetime64[ns]\n",
      " 6   day and month      5516 non-null   object        \n",
      "dtypes: datetime64[ns](1), object(6)\n",
      "memory usage: 301.8+ KB\n"
     ]
    }
   ],
   "source": [
    "news.info()"
   ]
  },
  {
   "cell_type": "code",
   "execution_count": 10,
   "id": "a28776f6",
   "metadata": {},
   "outputs": [],
   "source": [
    "news_temp = news.copy()"
   ]
  },
  {
   "cell_type": "code",
   "execution_count": 11,
   "id": "a7811794",
   "metadata": {},
   "outputs": [],
   "source": [
    "stop_words = set(stopwords.words('english'))"
   ]
  },
  {
   "cell_type": "code",
   "execution_count": 12,
   "id": "f27badba",
   "metadata": {},
   "outputs": [],
   "source": [
    "for i in range(len(news_temp[\"headline\"])):\n",
    "    string = \"\"\n",
    "    for word in news_temp[\"headline\"][i].split():\n",
    "        word = (\"\".join(e for e in word if e.isalnum()))\n",
    "        word = word.lower()\n",
    "        if not word in stop_words:\n",
    "          string += word + \" \"  \n",
    "    news_temp.at[i,\"headline\"] = string.strip()"
   ]
  },
  {
   "cell_type": "code",
   "execution_count": 13,
   "id": "f09a6142",
   "metadata": {},
   "outputs": [],
   "source": [
    "lemmatizer = WordNetLemmatizer()"
   ]
  },
  {
   "cell_type": "code",
   "execution_count": 14,
   "id": "1d5cb40b",
   "metadata": {},
   "outputs": [],
   "source": [
    "for i in range(len(news_temp[\"headline\"])):\n",
    "    string = \"\"\n",
    "    for w in word_tokenize(news_temp[\"headline\"][i]):\n",
    "        string += lemmatizer.lemmatize(w,pos = \"v\") + \" \"\n",
    "    news_temp.at[i, \"headline\"] = string.strip()"
   ]
  },
  {
   "cell_type": "code",
   "execution_count": 15,
   "id": "32cc386b",
   "metadata": {},
   "outputs": [],
   "source": [
    "tfidf_headline_vectorizer = TfidfVectorizer(min_df = 0.0)\n",
    "tfidf_headline_features = tfidf_headline_vectorizer.fit_transform(news_temp['headline'])"
   ]
  },
  {
   "cell_type": "code",
   "execution_count": 16,
   "id": "e081e82f",
   "metadata": {},
   "outputs": [
    {
     "name": "stdout",
     "output_type": "stream",
     "text": [
      "============================== Queried article details ==============================\n",
      "headline :  Deadly California Wildfire Was Ignited To Cover Up A Murder, Sheriff Says\n",
      "\n",
      " ========================= Recommended articles :  =======================\n"
     ]
    },
    {
     "data": {
      "text/html": [
       "<div>\n",
       "<style scoped>\n",
       "    .dataframe tbody tr th:only-of-type {\n",
       "        vertical-align: middle;\n",
       "    }\n",
       "\n",
       "    .dataframe tbody tr th {\n",
       "        vertical-align: top;\n",
       "    }\n",
       "\n",
       "    .dataframe thead th {\n",
       "        text-align: right;\n",
       "    }\n",
       "</style>\n",
       "<table border=\"1\" class=\"dataframe\">\n",
       "  <thead>\n",
       "    <tr style=\"text-align: right;\">\n",
       "      <th></th>\n",
       "      <th>publish_date</th>\n",
       "      <th>headline</th>\n",
       "      <th>Euclidean similarity with the queried article</th>\n",
       "      <th>link</th>\n",
       "    </tr>\n",
       "  </thead>\n",
       "  <tbody>\n",
       "    <tr>\n",
       "      <th>1</th>\n",
       "      <td>2020-09-06</td>\n",
       "      <td>California Wildfire Traps Campers In National ...</td>\n",
       "      <td>1.231473</td>\n",
       "      <td>https://www.huffpost.com/entry/california-wild...</td>\n",
       "    </tr>\n",
       "    <tr>\n",
       "      <th>2</th>\n",
       "      <td>2020-08-15</td>\n",
       "      <td>Bull Chases Firefighters Battling California W...</td>\n",
       "      <td>1.236348</td>\n",
       "      <td>https://www.huffpost.com/entry/bull-firefighte...</td>\n",
       "    </tr>\n",
       "    <tr>\n",
       "      <th>3</th>\n",
       "      <td>2022-03-07</td>\n",
       "      <td>4 Of 7 Killed In Iowa Tornadoes From Same Fami...</td>\n",
       "      <td>1.254576</td>\n",
       "      <td>https://www.huffpost.com/entry/iowa-tornado-fo...</td>\n",
       "    </tr>\n",
       "    <tr>\n",
       "      <th>4</th>\n",
       "      <td>2020-09-12</td>\n",
       "      <td>Parents Say Son Died In Wildfire Trying To Sav...</td>\n",
       "      <td>1.270830</td>\n",
       "      <td>https://www.huffpost.com/entry/oregon-wildfire...</td>\n",
       "    </tr>\n",
       "    <tr>\n",
       "      <th>5</th>\n",
       "      <td>2021-02-25</td>\n",
       "      <td>LA Sheriff Says Tiger Woods Crash ‘Purely An A...</td>\n",
       "      <td>1.271936</td>\n",
       "      <td>https://www.huffpost.com/entry/tiger-woods-cra...</td>\n",
       "    </tr>\n",
       "    <tr>\n",
       "      <th>6</th>\n",
       "      <td>2021-02-18</td>\n",
       "      <td>U.S. Needs To Brace Itself For More Deadly Sto...</td>\n",
       "      <td>1.272614</td>\n",
       "      <td>https://www.huffpost.com/entry/climate-change-...</td>\n",
       "    </tr>\n",
       "    <tr>\n",
       "      <th>7</th>\n",
       "      <td>2022-08-11</td>\n",
       "      <td>Steve Martin Says ‘Only Murders In The Buildin...</td>\n",
       "      <td>1.276902</td>\n",
       "      <td>https://www.huffpost.com/entry/steve-martin-re...</td>\n",
       "    </tr>\n",
       "    <tr>\n",
       "      <th>8</th>\n",
       "      <td>2022-08-21</td>\n",
       "      <td>Minneapolis Teacher Contract Race Language Ign...</td>\n",
       "      <td>1.290466</td>\n",
       "      <td>https://www.huffpost.com/entry/united-states-m...</td>\n",
       "    </tr>\n",
       "    <tr>\n",
       "      <th>9</th>\n",
       "      <td>2020-06-11</td>\n",
       "      <td>Tennessee Lawmakers Vote To Keep KKK Leader’s ...</td>\n",
       "      <td>1.296950</td>\n",
       "      <td>https://www.huffpost.com/entry/tennessee-capit...</td>\n",
       "    </tr>\n",
       "    <tr>\n",
       "      <th>10</th>\n",
       "      <td>2022-04-05</td>\n",
       "      <td>Sen. Josh Hawley Washes His Hands Of The 'Pro-...</td>\n",
       "      <td>1.298878</td>\n",
       "      <td>https://www.huffpost.com/entry/josh-hawley-ket...</td>\n",
       "    </tr>\n",
       "  </tbody>\n",
       "</table>\n",
       "</div>"
      ],
      "text/plain": [
       "   publish_date                                           headline  \\\n",
       "1    2020-09-06  California Wildfire Traps Campers In National ...   \n",
       "2    2020-08-15  Bull Chases Firefighters Battling California W...   \n",
       "3    2022-03-07  4 Of 7 Killed In Iowa Tornadoes From Same Fami...   \n",
       "4    2020-09-12  Parents Say Son Died In Wildfire Trying To Sav...   \n",
       "5    2021-02-25  LA Sheriff Says Tiger Woods Crash ‘Purely An A...   \n",
       "6    2021-02-18  U.S. Needs To Brace Itself For More Deadly Sto...   \n",
       "7    2022-08-11  Steve Martin Says ‘Only Murders In The Buildin...   \n",
       "8    2022-08-21  Minneapolis Teacher Contract Race Language Ign...   \n",
       "9    2020-06-11  Tennessee Lawmakers Vote To Keep KKK Leader’s ...   \n",
       "10   2022-04-05  Sen. Josh Hawley Washes His Hands Of The 'Pro-...   \n",
       "\n",
       "    Euclidean similarity with the queried article  \\\n",
       "1                                        1.231473   \n",
       "2                                        1.236348   \n",
       "3                                        1.254576   \n",
       "4                                        1.270830   \n",
       "5                                        1.271936   \n",
       "6                                        1.272614   \n",
       "7                                        1.276902   \n",
       "8                                        1.290466   \n",
       "9                                        1.296950   \n",
       "10                                       1.298878   \n",
       "\n",
       "                                                 link  \n",
       "1   https://www.huffpost.com/entry/california-wild...  \n",
       "2   https://www.huffpost.com/entry/bull-firefighte...  \n",
       "3   https://www.huffpost.com/entry/iowa-tornado-fo...  \n",
       "4   https://www.huffpost.com/entry/oregon-wildfire...  \n",
       "5   https://www.huffpost.com/entry/tiger-woods-cra...  \n",
       "6   https://www.huffpost.com/entry/climate-change-...  \n",
       "7   https://www.huffpost.com/entry/steve-martin-re...  \n",
       "8   https://www.huffpost.com/entry/united-states-m...  \n",
       "9   https://www.huffpost.com/entry/tennessee-capit...  \n",
       "10  https://www.huffpost.com/entry/josh-hawley-ket...  "
      ]
     },
     "execution_count": 16,
     "metadata": {},
     "output_type": "execute_result"
    }
   ],
   "source": [
    "def tfidf_based_model(row_index, num_similar_items):\n",
    "    couple_dist = pairwise_distances(tfidf_headline_features,tfidf_headline_features[row_index])\n",
    "    indices = np.argsort(couple_dist.ravel())[0:num_similar_items]\n",
    "    df = pd.DataFrame({'publish_date': news['date'][indices].values,\n",
    "               'headline':news['headline'][indices].values,\n",
    "                'Euclidean similarity with the queried article': couple_dist[indices].ravel(), 'link':news['link'][indices].values})\n",
    "    print(\"=\"*30,\"Queried article details\",\"=\"*30)\n",
    "    print('headline : ',news['headline'][indices[0]])\n",
    "    print(\"\\n\",\"=\"*25,\"Recommended articles : \",\"=\"*23)\n",
    "    \n",
    "    \n",
    "    return df.iloc[1:,]\n",
    "tfidf_based_model(4156, 11)"
   ]
  },
  {
   "cell_type": "code",
   "execution_count": null,
   "id": "25bfd91a",
   "metadata": {},
   "outputs": [],
   "source": []
  }
 ],
 "metadata": {
  "kernelspec": {
   "display_name": "Python 3 (ipykernel)",
   "language": "python",
   "name": "python3"
  },
  "language_info": {
   "codemirror_mode": {
    "name": "ipython",
    "version": 3
   },
   "file_extension": ".py",
   "mimetype": "text/x-python",
   "name": "python",
   "nbconvert_exporter": "python",
   "pygments_lexer": "ipython3",
   "version": "3.11.4"
  }
 },
 "nbformat": 4,
 "nbformat_minor": 5
}
